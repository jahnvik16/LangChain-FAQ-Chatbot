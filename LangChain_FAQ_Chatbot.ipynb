{
  "nbformat": 4,
  "nbformat_minor": 0,
  "metadata": {
    "colab": {
      "provenance": [],
      "gpuType": "T4",
      "authorship_tag": "ABX9TyNn7iC1nnjZBsIggyWehlga",
      "include_colab_link": true
    },
    "kernelspec": {
      "name": "python3",
      "display_name": "Python 3"
    },
    "language_info": {
      "name": "python"
    },
    "accelerator": "GPU"
  },
  "cells": [
    {
      "cell_type": "markdown",
      "metadata": {
        "id": "view-in-github",
        "colab_type": "text"
      },
      "source": [
        "<a href=\"https://colab.research.google.com/github/jahnvik16/LangChain-FAQ-Chatbot/blob/main/LangChain_FAQ_Chatbot.ipynb\" target=\"_parent\"><img src=\"https://colab.research.google.com/assets/colab-badge.svg\" alt=\"Open In Colab\"/></a>"
      ]
    },
    {
      "cell_type": "code",
      "execution_count": 19,
      "metadata": {
        "id": "3G06MilDOekf"
      },
      "outputs": [],
      "source": [
        "# Install required packages in Colab\n",
        "!pip install --quiet sentence-transformers transformers chromadb pdfplumber tqdm streamlit pyngrok\n"
      ]
    },
    {
      "cell_type": "code",
      "source": [
        "import os\n",
        "import time\n",
        "import json\n",
        "import csv\n",
        "import re\n",
        "from pathlib import Path\n",
        "from datetime import datetime\n",
        "from tqdm import tqdm\n",
        "\n",
        "import numpy as np\n",
        "import pandas as pd\n",
        "import matplotlib.pyplot as plt\n",
        "import seaborn as sns\n",
        "\n",
        "import pdfplumber\n",
        "from sentence_transformers import SentenceTransformer\n",
        "import chromadb\n",
        "from chromadb.config import Settings\n",
        "\n",
        "from transformers import pipeline, AutoTokenizer, AutoModelForSeq2SeqLM\n",
        "\n",
        "sns.set(style=\"whitegrid\")\n",
        "DATA_DIR = \"/mnt/data\"\n",
        "PDF_PATH = os.path.join(DATA_DIR, \"/content/openAI PDF.pdf\")  # your uploaded file\n",
        "CHUNK_SIZE = 500   # characters per chunk (tuneable)\n",
        "CHUNK_OVERLAP = 100\n"
      ],
      "metadata": {
        "id": "5278JXNTOkW_"
      },
      "execution_count": 20,
      "outputs": []
    },
    {
      "cell_type": "code",
      "source": [
        "# Extract text from PDF using pdfplumber\n",
        "def extract_text_from_pdf(pdf_path):\n",
        "    pages = []\n",
        "    with pdfplumber.open(pdf_path) as pdf:\n",
        "        for i, page in enumerate(pdf.pages):\n",
        "            text = page.extract_text()\n",
        "            if text:\n",
        "                pages.append(text)\n",
        "    return \"\\n\".join(pages)\n",
        "\n",
        "raw_text = extract_text_from_pdf(PDF_PATH)\n",
        "print(f\"Extracted {len(raw_text)} characters from PDF.\")\n",
        "print(raw_text[:800])  # preview first 800 characters\n"
      ],
      "metadata": {
        "colab": {
          "base_uri": "https://localhost:8080/"
        },
        "id": "j9PJOJl8OwzB",
        "outputId": "90bd5c09-f00c-4992-9a00-6e2395cde8c6"
      },
      "execution_count": 21,
      "outputs": [
        {
          "output_type": "stream",
          "name": "stdout",
          "text": [
            "Extracted 19592 characters from PDF.\n",
            "AI in the\n",
            "Enterprise\n",
            "Lessons from seven frontier companies\n",
            "Contents\n",
            "A new way to work 3\n",
            "Executive summary 5\n",
            "Seven lessons for enterprise AI adoption\n",
            "Start with evals 6\n",
            "Embed AI into your products 9\n",
            "Start now and invest early 11\n",
            "Customize and fine-tune your models 13\n",
            "Get AI in the hands of experts 16\n",
            "Unblock your developers 18\n",
            "Set bold automation goals 21\n",
            "Conclusion 22\n",
            "More resources 24\n",
            "2 AI in the Enterprise\n",
            "A new way\n",
            "to work\n",
            "As an AI research and deployment company, OpenAI prioritizes partnering with global companies\n",
            "because our models will increasingly do their best work with sophisticated, complex,\n",
            "interconnected workflows and systems.\n",
            "We’re seeing AI deliver significant, measurable improvements on three fronts:\n",
            "01 Workforce performance Helping people deliver higher-quality outputs in s\n"
          ]
        }
      ]
    },
    {
      "cell_type": "code",
      "source": [
        "# Basic cleaning: remove repeated headers/footers and multiple newlines, trim spaces\n",
        "def clean_document_text(text):\n",
        "    # Remove common header/footer phrases that repeat (adjust as necessary)\n",
        "    text = re.sub(r\"AI in the Enterprise\", \" \", text, flags=re.IGNORECASE)\n",
        "    # Remove URLs\n",
        "    text = re.sub(r\"http[s]?://\\S+\", \" \", text)\n",
        "    # Convert multiple whitespace/newlines to single newline\n",
        "    text = re.sub(r\"\\n\\s*\\n+\", \"\\n\\n\", text)\n",
        "    # Replace many spaces with one\n",
        "    text = re.sub(r\"[ \\t]+\", \" \", text)\n",
        "    return text.strip()\n",
        "\n",
        "clean_text = clean_document_text(raw_text)\n",
        "print(f\"Cleaned text length: {len(clean_text)} chars\")\n",
        "print(clean_text[:800])\n"
      ],
      "metadata": {
        "colab": {
          "base_uri": "https://localhost:8080/"
        },
        "id": "NtpWA4B7O8b2",
        "outputId": "c31fe13e-e1b8-46b8-c729-ce65a91892a6"
      },
      "execution_count": 22,
      "outputs": [
        {
          "output_type": "stream",
          "name": "stdout",
          "text": [
            "Cleaned text length: 19130 chars\n",
            "AI in the\n",
            "Enterprise\n",
            "Lessons from seven frontier companies\n",
            "Contents\n",
            "A new way to work 3\n",
            "Executive summary 5\n",
            "Seven lessons for enterprise AI adoption\n",
            "Start with evals 6\n",
            "Embed AI into your products 9\n",
            "Start now and invest early 11\n",
            "Customize and fine-tune your models 13\n",
            "Get AI in the hands of experts 16\n",
            "Unblock your developers 18\n",
            "Set bold automation goals 21\n",
            "Conclusion 22\n",
            "More resources 24\n",
            "2 \n",
            "A new way\n",
            "to work\n",
            "As an AI research and deployment company, OpenAI prioritizes partnering with global companies\n",
            "because our models will increasingly do their best work with sophisticated, complex,\n",
            "interconnected workflows and systems.\n",
            "We’re seeing AI deliver significant, measurable improvements on three fronts:\n",
            "01 Workforce performance Helping people deliver higher-quality outputs in shorter\n",
            "time frames.\n",
            "\n"
          ]
        }
      ]
    },
    {
      "cell_type": "code",
      "source": [
        "# A small but realistic general FAQ list (you can expand these)\n",
        "extra_faqs = [\n",
        "    {\"question\": \"What is a language model?\", \"answer\": \"A language model is a statistical model that predicts the probability of a sequence of words. Modern LMs like transformers are trained on large text corpora to generate or score text.\"},\n",
        "    {\"question\": \"What is fine-tuning?\", \"answer\": \"Fine-tuning is training a pretrained model on task-specific data to adapt it to new tasks or domains.\"},\n",
        "    {\"question\": \"What is embeddings-based retrieval?\", \"answer\": \"Converting text into vector representations such that semantically similar texts are close together in vector space; used for semantic search.\"},\n",
        "    {\"question\": \"How does RAG work?\", \"answer\": \"RAG (Retrieval-Augmented Generation) retrieves relevant documents or passages and conditions a generative model on them to produce accurate, grounded answers.\"},\n",
        "    {\"question\": \"What is semantic search?\", \"answer\": \"Semantic search uses embeddings and vector similarity to find text that is semantically similar rather than relying on keyword matching.\"}\n",
        "]\n",
        "\n",
        "# Convert to a simple text block format and check\n",
        "len(extra_faqs), extra_faqs[0]\n"
      ],
      "metadata": {
        "colab": {
          "base_uri": "https://localhost:8080/"
        },
        "id": "fhkzDGMEPQT8",
        "outputId": "59d51d41-fa26-4016-d662-f9350593c66d"
      },
      "execution_count": 23,
      "outputs": [
        {
          "output_type": "execute_result",
          "data": {
            "text/plain": [
              "(5,\n",
              " {'question': 'What is a language model?',\n",
              "  'answer': 'A language model is a statistical model that predicts the probability of a sequence of words. Modern LMs like transformers are trained on large text corpora to generate or score text.'})"
            ]
          },
          "metadata": {},
          "execution_count": 23
        }
      ]
    },
    {
      "cell_type": "code",
      "source": [
        "# Helper: chunk a long text into overlapping pieces (character-based)\n",
        "def chunk_text(text, chunk_size=CHUNK_SIZE, overlap=CHUNK_OVERLAP):\n",
        "    chunks = []\n",
        "    start = 0\n",
        "    text_len = len(text)\n",
        "    while start < text_len:\n",
        "        end = start + chunk_size\n",
        "        chunk = text[start:end]\n",
        "        chunks.append(chunk.strip())\n",
        "        start = end - overlap  # move with overlap\n",
        "        if start < 0:\n",
        "            start = 0\n",
        "    return [c for c in chunks if len(c) > 20]  # filter tiny chunks\n",
        "\n",
        "# Chunk the cleaned PDF\n",
        "pdf_chunks = chunk_text(clean_text, chunk_size=CHUNK_SIZE, overlap=CHUNK_OVERLAP)\n",
        "print(\"Number of PDF chunks:\", len(pdf_chunks))\n",
        "\n",
        "# Turn extra_faqs into chunks too (keep Q/A per chunk)\n",
        "faq_chunks = [f\"Q: {f['question']}\\nA: {f['answer']}\" for f in extra_faqs]\n",
        "print(\"Number of FAQ chunks:\", len(faq_chunks))\n",
        "\n",
        "# Combine all chunks; build metadata\n",
        "all_chunks = []\n",
        "for i, c in enumerate(pdf_chunks):\n",
        "    all_chunks.append({\"id\": f\"pdf_{i}\", \"text\": c, \"source\": \"uploaded_pdf\"})\n",
        "for i, c in enumerate(faq_chunks):\n",
        "    all_chunks.append({\"id\": f\"faq_{i}\", \"text\": c, \"source\": \"extra_faq\"})\n",
        "\n",
        "print(\"Total chunks:\", len(all_chunks))\n"
      ],
      "metadata": {
        "colab": {
          "base_uri": "https://localhost:8080/"
        },
        "id": "3nifirHrPUPZ",
        "outputId": "77ccec41-3c71-4235-fcac-2d65a65d346e"
      },
      "execution_count": 24,
      "outputs": [
        {
          "output_type": "stream",
          "name": "stdout",
          "text": [
            "Number of PDF chunks: 48\n",
            "Number of FAQ chunks: 5\n",
            "Total chunks: 53\n"
          ]
        }
      ]
    },
    {
      "cell_type": "code",
      "source": [
        "# Initialize sentence-transformers model\n",
        "embed_model_name = \"all-MiniLM-L6-v2\"  # small, fast, good for semantic search\n",
        "embedder = SentenceTransformer(embed_model_name)\n",
        "\n",
        "# Create Chroma client & collection (in-memory)\n",
        "# Create a directory for Chroma persistence\n",
        "chroma_dir = \"./chroma_db\"\n",
        "os.makedirs(chroma_dir, exist_ok=True)\n",
        "client = chromadb.PersistentClient(path=chroma_dir)\n",
        "\n",
        "# Get the collection if it exists, otherwise create it\n",
        "try:\n",
        "    collection = client.get_collection(name=\"faq_collection\")\n",
        "    print(\"Using existing collection:\", collection.count())\n",
        "except:\n",
        "    collection = client.create_collection(name=\"faq_collection\")\n",
        "    print(\"Created new collection.\")\n",
        "\n",
        "\n",
        "# Compute embeddings and add to Chroma\n",
        "texts = [c[\"text\"] for c in all_chunks]\n",
        "ids = [c[\"id\"] for c in all_chunks]\n",
        "metadatas = [{\"source\": c[\"source\"]} for c in all_chunks]\n",
        "\n",
        "# Compute embeddings in batches with progress bar\n",
        "batch_size = 64\n",
        "all_embeddings = []\n",
        "for i in tqdm(range(0, len(texts), batch_size), desc=\"Embedding batches\"):\n",
        "    batch_texts = texts[i:i+batch_size]\n",
        "    emb = embedder.encode(batch_texts, convert_to_numpy=True, show_progress_bar=False)\n",
        "    all_embeddings.append(emb)\n",
        "all_embeddings = np.vstack(all_embeddings)\n",
        "\n",
        "# Add to Chroma collection\n",
        "collection.add(ids=ids, documents=texts, metadatas=metadatas, embeddings=all_embeddings.tolist())\n",
        "print(\"Indexed chunks in Chroma:\", collection.count())"
      ],
      "metadata": {
        "colab": {
          "base_uri": "https://localhost:8080/"
        },
        "id": "7F-aCDakPXcP",
        "outputId": "abbbb897-6393-49dd-d697-173685b12783"
      },
      "execution_count": 25,
      "outputs": [
        {
          "output_type": "stream",
          "name": "stdout",
          "text": [
            "Using existing collection: 53\n"
          ]
        },
        {
          "output_type": "stream",
          "name": "stderr",
          "text": [
            "Embedding batches: 100%|██████████| 1/1 [00:00<00:00,  7.77it/s]"
          ]
        },
        {
          "output_type": "stream",
          "name": "stdout",
          "text": [
            "Indexed chunks in Chroma: 53\n"
          ]
        },
        {
          "output_type": "stream",
          "name": "stderr",
          "text": [
            "\n"
          ]
        }
      ]
    },
    {
      "cell_type": "code",
      "source": [
        "import torch\n",
        "# Load a seq2seq model and tokenizer for text generation\n",
        "model_name = \"google/flan-t5-base\"  # good balance of quality and speed\n",
        "tokenizer = AutoTokenizer.from_pretrained(model_name)\n",
        "model = AutoModelForSeq2SeqLM.from_pretrained(model_name)\n",
        "\n",
        "# Create a pipeline for text2text generation (CPU/GPU auto)\n",
        "generator = pipeline(\"text2text-generation\", model=model, tokenizer=tokenizer, device=0 if torch.cuda.is_available() else -1)\n",
        "print(\"Loaded model:\", model_name)\n"
      ],
      "metadata": {
        "colab": {
          "base_uri": "https://localhost:8080/"
        },
        "id": "w5Zk-8R1PbOT",
        "outputId": "25bc0294-5c6e-4c71-ede4-bd253cae56bb"
      },
      "execution_count": 26,
      "outputs": [
        {
          "output_type": "stream",
          "name": "stderr",
          "text": [
            "Device set to use cuda:0\n"
          ]
        },
        {
          "output_type": "stream",
          "name": "stdout",
          "text": [
            "Loaded model: google/flan-t5-base\n"
          ]
        }
      ]
    },
    {
      "cell_type": "code",
      "source": [
        "import torch  # required for device check\n",
        "\n",
        "def retrieve_top_k(query, k=4):\n",
        "    \"\"\"\n",
        "    Returns top-k docs from Chroma for the query along with distances (similarity).\n",
        "    \"\"\"\n",
        "    q_emb = embedder.encode([query], convert_to_numpy=True)\n",
        "    results = collection.query(query_embeddings=q_emb.tolist(), n_results=k, include=['distances','metadatas','documents'])\n",
        "    docs = []\n",
        "    for doc, dist, meta, did in zip(results['documents'][0], results['distances'][0], results['metadatas'][0], results['ids'][0]):\n",
        "        docs.append({\"id\": did, \"text\": doc, \"distance\": dist, \"source\": meta.get(\"source\")})\n",
        "    return docs\n",
        "\n",
        "def build_prompt(question, retrieved_docs):\n",
        "    \"\"\"\n",
        "    Constructs a prompt for the generator model by concatenating retrieved docs.\n",
        "    Adds an instruction to answer concisely and cite sources where possible.\n",
        "    \"\"\"\n",
        "    context = \"\\n\\n---\\n\\n\".join([f\"Source ({d['id']}):\\n{d['text']}\" for d in retrieved_docs])\n",
        "    prompt = f\"You are a helpful assistant. Use the context below to answer the question. If the context does not contain the answer, say 'I don't know'. Be brief and cite source ids.\\n\\nContext:\\n{context}\\n\\nQuestion: {question}\\n\\nAnswer:\"\n",
        "    return prompt"
      ],
      "metadata": {
        "id": "-c8W2q4oQTpx"
      },
      "execution_count": 27,
      "outputs": []
    },
    {
      "cell_type": "code",
      "source": [
        "# Path for metrics log\n",
        "METRICS_CSV = os.path.join(DATA_DIR, \"rag_metrics_log.csv\")\n",
        "\n",
        "def ask_question(question, k=4, log=True):\n",
        "    \"\"\"\n",
        "    Full RAG pipeline: retrieve -> generate -> return answer.\n",
        "    Logs metrics: latency, distances, combined context length.\n",
        "    \"\"\"\n",
        "    t0 = time.time()\n",
        "    # Retrieve\n",
        "    docs = retrieve_top_k(question, k=k)\n",
        "    distances = [d[\"distance\"] for d in docs]\n",
        "    # Build prompt\n",
        "    prompt = build_prompt(question, docs)\n",
        "    t1 = time.time()\n",
        "    retrieval_time = t1 - t0\n",
        "\n",
        "    # Generate answer\n",
        "    gen_t0 = time.time()\n",
        "    # use generator pipeline; limit output tokens for speed\n",
        "    out = generator(prompt, max_length=256, do_sample=False)\n",
        "    gen_t1 = time.time()\n",
        "    gen_time = gen_t1 - gen_t0\n",
        "\n",
        "    answer = out[0]['generated_text'].strip()\n",
        "\n",
        "    # Optionally log metrics\n",
        "    if log:\n",
        "        # Ensure the directory exists before writing the file\n",
        "        os.makedirs(DATA_DIR, exist_ok=True)\n",
        "        row = {\n",
        "            \"timestamp\": datetime.utcnow().isoformat(),\n",
        "            \"question\": question,\n",
        "            \"answer\": answer[:500].replace(\"\\n\",\" \"),  # truncated for CSV\n",
        "            \"retrieval_time_s\": retrieval_time,\n",
        "            \"generation_time_s\": gen_time,\n",
        "            \"total_time_s\": retrieval_time + gen_time,\n",
        "            \"mean_distance\": float(np.mean(distances)) if distances else None,\n",
        "            \"min_distance\": float(np.min(distances)) if distances else None,\n",
        "            \"max_distance\": float(np.max(distances)) if distances else None,\n",
        "            \"num_docs\": len(docs)\n",
        "        }\n",
        "        file_exists = os.path.exists(METRICS_CSV)\n",
        "        with open(METRICS_CSV, \"a\", newline='', encoding=\"utf-8\") as f:\n",
        "            writer = csv.DictWriter(f, fieldnames=list(row.keys()))\n",
        "            if not file_exists:\n",
        "                writer.writeheader()\n",
        "            writer.writerow(row)\n",
        "\n",
        "    return {\"answer\": answer, \"docs\": docs, \"metrics\": {\"retrieval_time\": retrieval_time, \"generation_time\": gen_time}}"
      ],
      "metadata": {
        "id": "JJqOjHdvRD28"
      },
      "execution_count": 28,
      "outputs": []
    },
    {
      "cell_type": "code",
      "source": [
        "examples = [\n",
        "    \"What are the seven lessons for enterprise AI adoption?\",\n",
        "    \"How did Morgan Stanley use evals in their AI deployment?\",\n",
        "    \"What is retrieval-augmented generation (RAG)?\",\n",
        "    \"How can fine-tuning help e-commerce search, according to the document?\"\n",
        "]\n",
        "\n",
        "for q in examples:\n",
        "    print(\"QUESTION:\", q)\n",
        "    res = ask_question(q, k=4, log=True)\n",
        "    print(\"ANSWER:\", res[\"answer\"][:800])\n",
        "    print(\"SOURCES:\", [d['id'] for d in res['docs']])\n",
        "    print(\"-\"*80)\n"
      ],
      "metadata": {
        "colab": {
          "base_uri": "https://localhost:8080/"
        },
        "id": "cIBr86YLRGuc",
        "outputId": "94f8220b-a900-4492-8006-e2c31127fd0e"
      },
      "execution_count": 29,
      "outputs": [
        {
          "output_type": "stream",
          "name": "stderr",
          "text": [
            "Token indices sequence length is longer than the specified maximum sequence length for this model (513 > 512). Running this sequence through the model will result in indexing errors\n",
            "Both `max_new_tokens` (=256) and `max_length`(=256) seem to have been set. `max_new_tokens` will take precedence. Please refer to the documentation for more information. (https://huggingface.co/docs/transformers/main/en/main_classes/text_generation)\n"
          ]
        },
        {
          "output_type": "stream",
          "name": "stdout",
          "text": [
            "QUESTION: What are the seven lessons for enterprise AI adoption?\n"
          ]
        },
        {
          "output_type": "stream",
          "name": "stderr",
          "text": [
            "/tmp/ipython-input-2837390304.py:32: DeprecationWarning: datetime.datetime.utcnow() is deprecated and scheduled for removal in a future version. Use timezone-aware objects to represent datetimes in UTC: datetime.datetime.now(datetime.UTC).\n",
            "  \"timestamp\": datetime.utcnow().isoformat(),\n",
            "Both `max_new_tokens` (=256) and `max_length`(=256) seem to have been set. `max_new_tokens` will take precedence. Please refer to the documentation for more information. (https://huggingface.co/docs/transformers/main/en/main_classes/text_generation)\n"
          ]
        },
        {
          "output_type": "stream",
          "name": "stdout",
          "text": [
            "ANSWER: Start with evals Use a systematic evaluation process to measure how models perform against your use cases. 02 Embed AI in Create new customer experiences and more your products relevant interactions. 03 Start now and The sooner you get going, the more the value compounds. invest early 04 Customize and Tuning AI to the specifics of your use cases can dramatically tune your models increase value. 05 Get AI in the hands The pe --- Source (pdf_5): AI in the Enterprise Lessons from seven frontier companies Contents A new way to work 3 Executive summary 5 Seven lessons for enterprise AI adoption Start with evals 6 Embed AI into your products 9 Start now and invest early 11 Customize and fine-tune your models 13 Get AI in the hands of experts 16 Unblock your developers 18 Set bold automation goal\n",
            "SOURCES: ['pdf_5', 'pdf_0', 'pdf_4', 'pdf_6']\n",
            "--------------------------------------------------------------------------------\n",
            "QUESTION: How did Morgan Stanley use evals in their AI deployment?\n"
          ]
        },
        {
          "output_type": "stream",
          "name": "stderr",
          "text": [
            "Both `max_new_tokens` (=256) and `max_length`(=256) seem to have been set. `max_new_tokens` will take precedence. Please refer to the documentation for more information. (https://huggingface.co/docs/transformers/main/en/main_classes/text_generation)\n"
          ]
        },
        {
          "output_type": "stream",
          "name": "stdout",
          "text": [
            "ANSWER: Focused on making their financial advisors more efficient and effective. The premise was simple: If advisors could access information faster and reduce the time spent on repe --- Source (pdf_11): search time; and advisors spend more time on client relationships, thanks to task automation and faster insights. The feedback from advisors has been overwhelmingly positive. They’re more engaged with clients, and follow-ups that used to take days now happen within hours.\n",
            "SOURCES: ['pdf_8', 'pdf_11', 'pdf_7', 'pdf_12']\n",
            "--------------------------------------------------------------------------------\n",
            "QUESTION: What is retrieval-augmented generation (RAG)?\n"
          ]
        },
        {
          "output_type": "stream",
          "name": "stderr",
          "text": [
            "Both `max_new_tokens` (=256) and `max_length`(=256) seem to have been set. `max_new_tokens` will take precedence. Please refer to the documentation for more information. (https://huggingface.co/docs/transformers/main/en/main_classes/text_generation)\n"
          ]
        },
        {
          "output_type": "stream",
          "name": "stdout",
          "text": [
            "ANSWER: retrievals relevant documents or passages and conditions a generative model on them to produce accurate, grounded answers. ---\n",
            "SOURCES: ['faq_3', 'faq_2', 'pdf_10', 'pdf_44']\n",
            "--------------------------------------------------------------------------------\n",
            "QUESTION: How can fine-tuning help e-commerce search, according to the document?\n",
            "ANSWER: By fine-tuning OpenAI models, the Lowe’s team was able to improve product tagging ac\n",
            "SOURCES: ['pdf_23', 'pdf_22', 'pdf_25', 'faq_1']\n",
            "--------------------------------------------------------------------------------\n"
          ]
        }
      ]
    },
    {
      "cell_type": "code",
      "source": [
        "# Read metrics and plot simple dashboard\n",
        "if os.path.exists(METRICS_CSV):\n",
        "    df_metrics = pd.read_csv(METRICS_CSV, parse_dates=[\"timestamp\"])\n",
        "    display(df_metrics.head())\n",
        "\n",
        "    # Trends: total time over queries\n",
        "    plt.figure(figsize=(10,4))\n",
        "    plt.plot(df_metrics['timestamp'], df_metrics['total_time_s'], marker='o')\n",
        "    plt.title(\"Total Query Time over Requests\")\n",
        "    plt.xlabel(\"Timestamp\")\n",
        "    plt.ylabel(\"Total time (s)\")\n",
        "    plt.xticks(rotation=25)\n",
        "    plt.grid(True)\n",
        "    plt.show()\n",
        "\n",
        "    # Similarity (mean distance) trend\n",
        "    plt.figure(figsize=(10,4))\n",
        "    plt.plot(df_metrics['timestamp'], df_metrics['mean_distance'], marker='o', color='orange')\n",
        "    plt.title(\"Mean Similarity Distance (lower = more similar)\")\n",
        "    plt.xlabel(\"Timestamp\")\n",
        "    plt.ylabel(\"Mean distance\")\n",
        "    plt.xticks(rotation=25)\n",
        "    plt.grid(True)\n",
        "    plt.show()\n",
        "else:\n",
        "    print(\"No metrics logged yet. Ask some questions first.\")\n"
      ],
      "metadata": {
        "colab": {
          "base_uri": "https://localhost:8080/",
          "height": 1000
        },
        "id": "_OLhImXnRKWq",
        "outputId": "761ebc69-06f1-4717-da3a-2b1a3e44f3c1"
      },
      "execution_count": 30,
      "outputs": [
        {
          "output_type": "display_data",
          "data": {
            "text/plain": [
              "                   timestamp  \\\n",
              "0 2025-10-17 22:34:11.659608   \n",
              "1 2025-10-17 22:34:13.999364   \n",
              "2 2025-10-17 22:34:14.957174   \n",
              "3 2025-10-17 22:34:16.663003   \n",
              "4 2025-10-17 22:35:04.834893   \n",
              "\n",
              "                                            question  \\\n",
              "0  What are the seven lessons for enterprise AI a...   \n",
              "1  How did Morgan Stanley use evals in their AI d...   \n",
              "2      What is retrieval-augmented generation (RAG)?   \n",
              "3  How can fine-tuning help e-commerce search, ac...   \n",
              "4  What are the seven lessons for enterprise AI a...   \n",
              "\n",
              "                                              answer  retrieval_time_s  \\\n",
              "0  Start with evals Use a systematic evaluation p...          0.066209   \n",
              "1  Focused on making their financial advisors mor...          0.010273   \n",
              "2  retrievals relevant documents or passages and ...          0.008280   \n",
              "3  By fine-tuning OpenAI models, the Lowe’s team ...          0.012607   \n",
              "4  Start with evals Use a systematic evaluation p...          0.011860   \n",
              "\n",
              "   generation_time_s  total_time_s  mean_distance  min_distance  max_distance  \\\n",
              "0           6.392450      6.458659       0.634056      0.521587      0.836926   \n",
              "1           2.328671      2.338944       0.726513      0.550743      0.919989   \n",
              "2           0.948999      0.957279       1.221275      0.605962      1.491788   \n",
              "3           1.691901      1.704508       0.963476      0.807541      1.073652   \n",
              "4           6.228880      6.240740       0.634056      0.521587      0.836926   \n",
              "\n",
              "   num_docs  \n",
              "0         4  \n",
              "1         4  \n",
              "2         4  \n",
              "3         4  \n",
              "4         4  "
            ],
            "text/html": [
              "\n",
              "  <div id=\"df-6aa553f7-be23-4982-820e-78717039faa4\" class=\"colab-df-container\">\n",
              "    <div>\n",
              "<style scoped>\n",
              "    .dataframe tbody tr th:only-of-type {\n",
              "        vertical-align: middle;\n",
              "    }\n",
              "\n",
              "    .dataframe tbody tr th {\n",
              "        vertical-align: top;\n",
              "    }\n",
              "\n",
              "    .dataframe thead th {\n",
              "        text-align: right;\n",
              "    }\n",
              "</style>\n",
              "<table border=\"1\" class=\"dataframe\">\n",
              "  <thead>\n",
              "    <tr style=\"text-align: right;\">\n",
              "      <th></th>\n",
              "      <th>timestamp</th>\n",
              "      <th>question</th>\n",
              "      <th>answer</th>\n",
              "      <th>retrieval_time_s</th>\n",
              "      <th>generation_time_s</th>\n",
              "      <th>total_time_s</th>\n",
              "      <th>mean_distance</th>\n",
              "      <th>min_distance</th>\n",
              "      <th>max_distance</th>\n",
              "      <th>num_docs</th>\n",
              "    </tr>\n",
              "  </thead>\n",
              "  <tbody>\n",
              "    <tr>\n",
              "      <th>0</th>\n",
              "      <td>2025-10-17 22:34:11.659608</td>\n",
              "      <td>What are the seven lessons for enterprise AI a...</td>\n",
              "      <td>Start with evals Use a systematic evaluation p...</td>\n",
              "      <td>0.066209</td>\n",
              "      <td>6.392450</td>\n",
              "      <td>6.458659</td>\n",
              "      <td>0.634056</td>\n",
              "      <td>0.521587</td>\n",
              "      <td>0.836926</td>\n",
              "      <td>4</td>\n",
              "    </tr>\n",
              "    <tr>\n",
              "      <th>1</th>\n",
              "      <td>2025-10-17 22:34:13.999364</td>\n",
              "      <td>How did Morgan Stanley use evals in their AI d...</td>\n",
              "      <td>Focused on making their financial advisors mor...</td>\n",
              "      <td>0.010273</td>\n",
              "      <td>2.328671</td>\n",
              "      <td>2.338944</td>\n",
              "      <td>0.726513</td>\n",
              "      <td>0.550743</td>\n",
              "      <td>0.919989</td>\n",
              "      <td>4</td>\n",
              "    </tr>\n",
              "    <tr>\n",
              "      <th>2</th>\n",
              "      <td>2025-10-17 22:34:14.957174</td>\n",
              "      <td>What is retrieval-augmented generation (RAG)?</td>\n",
              "      <td>retrievals relevant documents or passages and ...</td>\n",
              "      <td>0.008280</td>\n",
              "      <td>0.948999</td>\n",
              "      <td>0.957279</td>\n",
              "      <td>1.221275</td>\n",
              "      <td>0.605962</td>\n",
              "      <td>1.491788</td>\n",
              "      <td>4</td>\n",
              "    </tr>\n",
              "    <tr>\n",
              "      <th>3</th>\n",
              "      <td>2025-10-17 22:34:16.663003</td>\n",
              "      <td>How can fine-tuning help e-commerce search, ac...</td>\n",
              "      <td>By fine-tuning OpenAI models, the Lowe’s team ...</td>\n",
              "      <td>0.012607</td>\n",
              "      <td>1.691901</td>\n",
              "      <td>1.704508</td>\n",
              "      <td>0.963476</td>\n",
              "      <td>0.807541</td>\n",
              "      <td>1.073652</td>\n",
              "      <td>4</td>\n",
              "    </tr>\n",
              "    <tr>\n",
              "      <th>4</th>\n",
              "      <td>2025-10-17 22:35:04.834893</td>\n",
              "      <td>What are the seven lessons for enterprise AI a...</td>\n",
              "      <td>Start with evals Use a systematic evaluation p...</td>\n",
              "      <td>0.011860</td>\n",
              "      <td>6.228880</td>\n",
              "      <td>6.240740</td>\n",
              "      <td>0.634056</td>\n",
              "      <td>0.521587</td>\n",
              "      <td>0.836926</td>\n",
              "      <td>4</td>\n",
              "    </tr>\n",
              "  </tbody>\n",
              "</table>\n",
              "</div>\n",
              "    <div class=\"colab-df-buttons\">\n",
              "\n",
              "  <div class=\"colab-df-container\">\n",
              "    <button class=\"colab-df-convert\" onclick=\"convertToInteractive('df-6aa553f7-be23-4982-820e-78717039faa4')\"\n",
              "            title=\"Convert this dataframe to an interactive table.\"\n",
              "            style=\"display:none;\">\n",
              "\n",
              "  <svg xmlns=\"http://www.w3.org/2000/svg\" height=\"24px\" viewBox=\"0 -960 960 960\">\n",
              "    <path d=\"M120-120v-720h720v720H120Zm60-500h600v-160H180v160Zm220 220h160v-160H400v160Zm0 220h160v-160H400v160ZM180-400h160v-160H180v160Zm440 0h160v-160H620v160ZM180-180h160v-160H180v160Zm440 0h160v-160H620v160Z\"/>\n",
              "  </svg>\n",
              "    </button>\n",
              "\n",
              "  <style>\n",
              "    .colab-df-container {\n",
              "      display:flex;\n",
              "      gap: 12px;\n",
              "    }\n",
              "\n",
              "    .colab-df-convert {\n",
              "      background-color: #E8F0FE;\n",
              "      border: none;\n",
              "      border-radius: 50%;\n",
              "      cursor: pointer;\n",
              "      display: none;\n",
              "      fill: #1967D2;\n",
              "      height: 32px;\n",
              "      padding: 0 0 0 0;\n",
              "      width: 32px;\n",
              "    }\n",
              "\n",
              "    .colab-df-convert:hover {\n",
              "      background-color: #E2EBFA;\n",
              "      box-shadow: 0px 1px 2px rgba(60, 64, 67, 0.3), 0px 1px 3px 1px rgba(60, 64, 67, 0.15);\n",
              "      fill: #174EA6;\n",
              "    }\n",
              "\n",
              "    .colab-df-buttons div {\n",
              "      margin-bottom: 4px;\n",
              "    }\n",
              "\n",
              "    [theme=dark] .colab-df-convert {\n",
              "      background-color: #3B4455;\n",
              "      fill: #D2E3FC;\n",
              "    }\n",
              "\n",
              "    [theme=dark] .colab-df-convert:hover {\n",
              "      background-color: #434B5C;\n",
              "      box-shadow: 0px 1px 3px 1px rgba(0, 0, 0, 0.15);\n",
              "      filter: drop-shadow(0px 1px 2px rgba(0, 0, 0, 0.3));\n",
              "      fill: #FFFFFF;\n",
              "    }\n",
              "  </style>\n",
              "\n",
              "    <script>\n",
              "      const buttonEl =\n",
              "        document.querySelector('#df-6aa553f7-be23-4982-820e-78717039faa4 button.colab-df-convert');\n",
              "      buttonEl.style.display =\n",
              "        google.colab.kernel.accessAllowed ? 'block' : 'none';\n",
              "\n",
              "      async function convertToInteractive(key) {\n",
              "        const element = document.querySelector('#df-6aa553f7-be23-4982-820e-78717039faa4');\n",
              "        const dataTable =\n",
              "          await google.colab.kernel.invokeFunction('convertToInteractive',\n",
              "                                                    [key], {});\n",
              "        if (!dataTable) return;\n",
              "\n",
              "        const docLinkHtml = 'Like what you see? Visit the ' +\n",
              "          '<a target=\"_blank\" href=https://colab.research.google.com/notebooks/data_table.ipynb>data table notebook</a>'\n",
              "          + ' to learn more about interactive tables.';\n",
              "        element.innerHTML = '';\n",
              "        dataTable['output_type'] = 'display_data';\n",
              "        await google.colab.output.renderOutput(dataTable, element);\n",
              "        const docLink = document.createElement('div');\n",
              "        docLink.innerHTML = docLinkHtml;\n",
              "        element.appendChild(docLink);\n",
              "      }\n",
              "    </script>\n",
              "  </div>\n",
              "\n",
              "\n",
              "    <div id=\"df-2423ebed-7865-43c5-bcfc-c1265f722437\">\n",
              "      <button class=\"colab-df-quickchart\" onclick=\"quickchart('df-2423ebed-7865-43c5-bcfc-c1265f722437')\"\n",
              "                title=\"Suggest charts\"\n",
              "                style=\"display:none;\">\n",
              "\n",
              "<svg xmlns=\"http://www.w3.org/2000/svg\" height=\"24px\"viewBox=\"0 0 24 24\"\n",
              "     width=\"24px\">\n",
              "    <g>\n",
              "        <path d=\"M19 3H5c-1.1 0-2 .9-2 2v14c0 1.1.9 2 2 2h14c1.1 0 2-.9 2-2V5c0-1.1-.9-2-2-2zM9 17H7v-7h2v7zm4 0h-2V7h2v10zm4 0h-2v-4h2v4z\"/>\n",
              "    </g>\n",
              "</svg>\n",
              "      </button>\n",
              "\n",
              "<style>\n",
              "  .colab-df-quickchart {\n",
              "      --bg-color: #E8F0FE;\n",
              "      --fill-color: #1967D2;\n",
              "      --hover-bg-color: #E2EBFA;\n",
              "      --hover-fill-color: #174EA6;\n",
              "      --disabled-fill-color: #AAA;\n",
              "      --disabled-bg-color: #DDD;\n",
              "  }\n",
              "\n",
              "  [theme=dark] .colab-df-quickchart {\n",
              "      --bg-color: #3B4455;\n",
              "      --fill-color: #D2E3FC;\n",
              "      --hover-bg-color: #434B5C;\n",
              "      --hover-fill-color: #FFFFFF;\n",
              "      --disabled-bg-color: #3B4455;\n",
              "      --disabled-fill-color: #666;\n",
              "  }\n",
              "\n",
              "  .colab-df-quickchart {\n",
              "    background-color: var(--bg-color);\n",
              "    border: none;\n",
              "    border-radius: 50%;\n",
              "    cursor: pointer;\n",
              "    display: none;\n",
              "    fill: var(--fill-color);\n",
              "    height: 32px;\n",
              "    padding: 0;\n",
              "    width: 32px;\n",
              "  }\n",
              "\n",
              "  .colab-df-quickchart:hover {\n",
              "    background-color: var(--hover-bg-color);\n",
              "    box-shadow: 0 1px 2px rgba(60, 64, 67, 0.3), 0 1px 3px 1px rgba(60, 64, 67, 0.15);\n",
              "    fill: var(--button-hover-fill-color);\n",
              "  }\n",
              "\n",
              "  .colab-df-quickchart-complete:disabled,\n",
              "  .colab-df-quickchart-complete:disabled:hover {\n",
              "    background-color: var(--disabled-bg-color);\n",
              "    fill: var(--disabled-fill-color);\n",
              "    box-shadow: none;\n",
              "  }\n",
              "\n",
              "  .colab-df-spinner {\n",
              "    border: 2px solid var(--fill-color);\n",
              "    border-color: transparent;\n",
              "    border-bottom-color: var(--fill-color);\n",
              "    animation:\n",
              "      spin 1s steps(1) infinite;\n",
              "  }\n",
              "\n",
              "  @keyframes spin {\n",
              "    0% {\n",
              "      border-color: transparent;\n",
              "      border-bottom-color: var(--fill-color);\n",
              "      border-left-color: var(--fill-color);\n",
              "    }\n",
              "    20% {\n",
              "      border-color: transparent;\n",
              "      border-left-color: var(--fill-color);\n",
              "      border-top-color: var(--fill-color);\n",
              "    }\n",
              "    30% {\n",
              "      border-color: transparent;\n",
              "      border-left-color: var(--fill-color);\n",
              "      border-top-color: var(--fill-color);\n",
              "      border-right-color: var(--fill-color);\n",
              "    }\n",
              "    40% {\n",
              "      border-color: transparent;\n",
              "      border-right-color: var(--fill-color);\n",
              "      border-top-color: var(--fill-color);\n",
              "    }\n",
              "    60% {\n",
              "      border-color: transparent;\n",
              "      border-right-color: var(--fill-color);\n",
              "    }\n",
              "    80% {\n",
              "      border-color: transparent;\n",
              "      border-right-color: var(--fill-color);\n",
              "      border-bottom-color: var(--fill-color);\n",
              "    }\n",
              "    90% {\n",
              "      border-color: transparent;\n",
              "      border-bottom-color: var(--fill-color);\n",
              "    }\n",
              "  }\n",
              "</style>\n",
              "\n",
              "      <script>\n",
              "        async function quickchart(key) {\n",
              "          const quickchartButtonEl =\n",
              "            document.querySelector('#' + key + ' button');\n",
              "          quickchartButtonEl.disabled = true;  // To prevent multiple clicks.\n",
              "          quickchartButtonEl.classList.add('colab-df-spinner');\n",
              "          try {\n",
              "            const charts = await google.colab.kernel.invokeFunction(\n",
              "                'suggestCharts', [key], {});\n",
              "          } catch (error) {\n",
              "            console.error('Error during call to suggestCharts:', error);\n",
              "          }\n",
              "          quickchartButtonEl.classList.remove('colab-df-spinner');\n",
              "          quickchartButtonEl.classList.add('colab-df-quickchart-complete');\n",
              "        }\n",
              "        (() => {\n",
              "          let quickchartButtonEl =\n",
              "            document.querySelector('#df-2423ebed-7865-43c5-bcfc-c1265f722437 button');\n",
              "          quickchartButtonEl.style.display =\n",
              "            google.colab.kernel.accessAllowed ? 'block' : 'none';\n",
              "        })();\n",
              "      </script>\n",
              "    </div>\n",
              "\n",
              "    </div>\n",
              "  </div>\n"
            ],
            "application/vnd.google.colaboratory.intrinsic+json": {
              "type": "dataframe",
              "summary": "{\n  \"name\": \"    print(\\\"No metrics logged yet\",\n  \"rows\": 5,\n  \"fields\": [\n    {\n      \"column\": \"timestamp\",\n      \"properties\": {\n        \"dtype\": \"date\",\n        \"min\": \"2025-10-17 22:34:11.659608\",\n        \"max\": \"2025-10-17 22:35:04.834893\",\n        \"num_unique_values\": 5,\n        \"samples\": [\n          \"2025-10-17 22:34:13.999364\",\n          \"2025-10-17 22:35:04.834893\",\n          \"2025-10-17 22:34:14.957174\"\n        ],\n        \"semantic_type\": \"\",\n        \"description\": \"\"\n      }\n    },\n    {\n      \"column\": \"question\",\n      \"properties\": {\n        \"dtype\": \"string\",\n        \"num_unique_values\": 4,\n        \"samples\": [\n          \"How did Morgan Stanley use evals in their AI deployment?\",\n          \"How can fine-tuning help e-commerce search, according to the document?\",\n          \"What are the seven lessons for enterprise AI adoption?\"\n        ],\n        \"semantic_type\": \"\",\n        \"description\": \"\"\n      }\n    },\n    {\n      \"column\": \"answer\",\n      \"properties\": {\n        \"dtype\": \"string\",\n        \"num_unique_values\": 4,\n        \"samples\": [\n          \"Focused on making their financial advisors more efficient and effective. The premise was simple: If advisors could access information faster and reduce the time spent on repe --- Source (pdf_11): search time; and advisors spend more time on client relationships, thanks to task automation and faster insights. The feedback from advisors has been overwhelmingly positive. They\\u2019re more engaged with clients, and follow-ups that used to take days now happen within hours.\",\n          \"By fine-tuning OpenAI models, the Lowe\\u2019s team was able to improve product tagging ac\",\n          \"Start with evals Use a systematic evaluation process to measure how models perform against your use cases. 02 Embed AI in Create new customer experiences and more your products relevant interactions. 03 Start now and The sooner you get going, the more the value compounds. invest early 04 Customize and Tuning AI to the specifics of your use cases can dramatically tune your models increase value. 05 Get AI in the hands The pe --- Source (pdf_5): AI in the Enterprise Lessons from seven frontier com\"\n        ],\n        \"semantic_type\": \"\",\n        \"description\": \"\"\n      }\n    },\n    {\n      \"column\": \"retrieval_time_s\",\n      \"properties\": {\n        \"dtype\": \"number\",\n        \"std\": 0.02485540880848072,\n        \"min\": 0.0082795619964599,\n        \"max\": 0.0662093162536621,\n        \"num_unique_values\": 5,\n        \"samples\": [\n          0.0102732181549072,\n          0.0118598937988281,\n          0.0082795619964599\n        ],\n        \"semantic_type\": \"\",\n        \"description\": \"\"\n      }\n    },\n    {\n      \"column\": \"generation_time_s\",\n      \"properties\": {\n        \"dtype\": \"number\",\n        \"std\": 2.596162500699175,\n        \"min\": 0.9489991664886476,\n        \"max\": 6.392450094223023,\n        \"num_unique_values\": 5,\n        \"samples\": [\n          2.3286707401275635,\n          6.228879690170288,\n          0.9489991664886476\n        ],\n        \"semantic_type\": \"\",\n        \"description\": \"\"\n      }\n    },\n    {\n      \"column\": \"total_time_s\",\n      \"properties\": {\n        \"dtype\": \"number\",\n        \"std\": 2.6122109097212896,\n        \"min\": 0.9572787284851074,\n        \"max\": 6.458659410476685,\n        \"num_unique_values\": 5,\n        \"samples\": [\n          2.3389439582824707,\n          6.240739583969116,\n          0.9572787284851074\n        ],\n        \"semantic_type\": \"\",\n        \"description\": \"\"\n      }\n    },\n    {\n      \"column\": \"mean_distance\",\n      \"properties\": {\n        \"dtype\": \"number\",\n        \"std\": 0.25408531660814165,\n        \"min\": 0.6340560168027878,\n        \"max\": 1.221275418996811,\n        \"num_unique_values\": 4,\n        \"samples\": [\n          0.7265128046274185,\n          0.9634760022163392,\n          0.6340560168027878\n        ],\n        \"semantic_type\": \"\",\n        \"description\": \"\"\n      }\n    },\n    {\n      \"column\": \"min_distance\",\n      \"properties\": {\n        \"dtype\": \"number\",\n        \"std\": 0.12023020279805975,\n        \"min\": 0.521587073802948,\n        \"max\": 0.8075410723686218,\n        \"num_unique_values\": 4,\n        \"samples\": [\n          0.5507434606552124,\n          0.8075410723686218,\n          0.521587073802948\n        ],\n        \"semantic_type\": \"\",\n        \"description\": \"\"\n      }\n    },\n    {\n      \"column\": \"max_distance\",\n      \"properties\": {\n        \"dtype\": \"number\",\n        \"std\": 0.274678897779304,\n        \"min\": 0.8369260430335999,\n        \"max\": 1.491788029670715,\n        \"num_unique_values\": 4,\n        \"samples\": [\n          0.9199889302253724,\n          1.073651909828186,\n          0.8369260430335999\n        ],\n        \"semantic_type\": \"\",\n        \"description\": \"\"\n      }\n    },\n    {\n      \"column\": \"num_docs\",\n      \"properties\": {\n        \"dtype\": \"number\",\n        \"std\": 0,\n        \"min\": 4,\n        \"max\": 4,\n        \"num_unique_values\": 1,\n        \"samples\": [\n          4\n        ],\n        \"semantic_type\": \"\",\n        \"description\": \"\"\n      }\n    }\n  ]\n}"
            }
          },
          "metadata": {}
        },
        {
          "output_type": "display_data",
          "data": {
            "text/plain": [
              "<Figure size 1000x400 with 1 Axes>"
            ],
            "image/png": "[encoded data removed]"
          },
          "metadata": {}
        },
        {
          "output_type": "display_data",
          "data": {
            "text/plain": [
              "<Figure size 1000x400 with 1 Axes>"
            ],
            "image/png": "[encoded data removed]"
          },
          "metadata": {}
        }
      ]
    },
    {
      "cell_type": "code",
      "source": [
        "# If you want to persist Chroma to disk for reuse you can create a persistent collection.\n",
        "# This requires creating the client with a persist_directory. Example commented out:\n",
        "\n",
        "persistent_dir = \"/content/chroma_persistent\"\n",
        "# client_p = chromadb.Client(Settings(chroma_db_impl=\"duckdb+parquet\", persist_directory=persistent_dir))\n",
        "client_p = chromadb.PersistentClient(path=persistent_dir)\n",
        "\n",
        "# Get the collection if it exists, otherwise create it\n",
        "try:\n",
        "    collection_p = client_p.get_collection(name=\"faq_collection_persist\")\n",
        "    print(\"Using existing persistent collection:\", collection_p.count())\n",
        "except:\n",
        "    collection_p = client_p.create_collection(name=\"faq_collection_persist\")\n",
        "    print(\"Created new persistent collection.\")\n",
        "\n",
        "collection_p.add(ids=ids, documents=texts, metadatas=metadatas, embeddings=all_embeddings.tolist())\n",
        "print(\"Persisted collection to\", persistent_dir)\n",
        "\n",
        "print(\"Chroma in-memory collection active (not persisted).\")"
      ],
      "metadata": {
        "colab": {
          "base_uri": "https://localhost:8080/"
        },
        "id": "OogUch0cSD-5",
        "outputId": "52d195b2-2c7f-4a6b-e393-09adf8011e80"
      },
      "execution_count": 31,
      "outputs": [
        {
          "output_type": "stream",
          "name": "stdout",
          "text": [
            "Using existing persistent collection: 53\n",
            "Persisted collection to /content/chroma_persistent\n",
            "Chroma in-memory collection active (not persisted).\n"
          ]
        }
      ]
    },
    {
      "cell_type": "code",
      "source": [
        "%%bash\n",
        "cat > /content/langchain_faq_app.py <<'PY'\n",
        "import streamlit as st\n",
        "import pandas as pd\n",
        "import time\n",
        "from pathlib import Path\n",
        "from datetime import datetime\n",
        "import json\n",
        "\n",
        "# Basic layout\n",
        "st.set_page_config(page_title=\"FAQ RAG Chatbot\", layout=\"wide\")\n",
        "st.title(\"FAQ Chatbot (PDF + General FAQs)\")\n",
        "\n",
        "# Sidebar metrics and controls\n",
        "st.sidebar.header(\"Monitoring\")\n",
        "metrics_path = \"/mnt/data/rag_metrics_log.csv\"\n",
        "if Path(metrics_path).exists():\n",
        "    dfm = pd.read_csv(metrics_path, parse_dates=[\"timestamp\"])\n",
        "    st.sidebar.write(\"Total queries:\", len(dfm))\n",
        "    st.sidebar.line_chart(dfm[['total_time_s']].rename(columns={'total_time_s':'Total time (s)'}))\n",
        "else:\n",
        "    st.sidebar.info(\"No metrics logged yet. Ask a question to create metrics.\")\n",
        "\n",
        "# User input\n",
        "question = st.text_area(\"Ask a question about the docs or AI/ML:\", height=120)\n",
        "k = st.slider(\"Number of context chunks to retrieve (k)\", 1, 8, 4)\n",
        "\n",
        "if st.button(\"Get Answer\"):\n",
        "    st.info(\"Sending query to RAG pipeline...\")\n",
        "    # Call local endpoint implemented via saved JSON as a quick hack in Colab\n",
        "    # In production, you'd call an API endpoint. Here we call a helper function saved via pickle or run the pipeline inline.\n",
        "    # For demo, we'll load a precomputed 'last_answer.json' put there by the notebook when ask_question runs.\n",
        "    ans_file = Path(\"/mnt/data/last_rag_answer.json\")\n",
        "    if ans_file.exists():\n",
        "        data = json.loads(ans_file.read_text())\n",
        "        st.subheader(\"Answer\")\n",
        "        st.write(data.get(\"answer\"))\n",
        "        st.subheader(\"Sources used\")\n",
        "        st.write(data.get(\"sources\"))\n",
        "    else:\n",
        "        st.warning(\"No answer file found. Run the notebook's `ask_question()` to create a sample response.\")\n",
        "PY\n"
      ],
      "metadata": {
        "id": "B8mwwpEjSfxO"
      },
      "execution_count": 32,
      "outputs": []
    },
    {
      "cell_type": "code",
      "source": [
        "# After you run ask_question(q), create a last_rag_answer.json for the Streamlit app to display.\n",
        "def write_last_answer_json(question, response):\n",
        "    out = {\n",
        "        \"question\": question,\n",
        "        \"answer\": response[\"answer\"],\n",
        "        \"sources\": [d[\"id\"] for d in response[\"docs\"]],\n",
        "        \"metrics\": response.get(\"metrics\")\n",
        "    }\n",
        "    out_path = os.path.join(DATA_DIR, \"last_rag_answer.json\")\n",
        "    with open(out_path, \"w\", encoding=\"utf-8\") as f:\n",
        "        json.dump(out, f, indent=2)\n",
        "    print(\"Wrote last answer JSON to\", out_path)\n",
        "\n",
        "# Example: run one question and write the JSON\n",
        "sample_q = \"What are the seven lessons for enterprise AI adoption?\"\n",
        "sample_res = ask_question(sample_q, k=4, log=True)\n",
        "write_last_answer_json(sample_q, sample_res)\n"
      ],
      "metadata": {
        "colab": {
          "base_uri": "https://localhost:8080/"
        },
        "id": "-InDpritTDCh",
        "outputId": "b8d63809-f2bf-4655-d492-7a76db28cf74"
      },
      "execution_count": 33,
      "outputs": [
        {
          "output_type": "stream",
          "name": "stderr",
          "text": [
            "Both `max_new_tokens` (=256) and `max_length`(=256) seem to have been set. `max_new_tokens` will take precedence. Please refer to the documentation for more information. (https://huggingface.co/docs/transformers/main/en/main_classes/text_generation)\n"
          ]
        },
        {
          "output_type": "stream",
          "name": "stdout",
          "text": [
            "Wrote last answer JSON to /mnt/data/last_rag_answer.json\n"
          ]
        },
        {
          "output_type": "stream",
          "name": "stderr",
          "text": [
            "/tmp/ipython-input-2837390304.py:32: DeprecationWarning: datetime.datetime.utcnow() is deprecated and scheduled for removal in a future version. Use timezone-aware objects to represent datetimes in UTC: datetime.datetime.now(datetime.UTC).\n",
            "  \"timestamp\": datetime.utcnow().isoformat(),\n"
          ]
        }
      ]
    },
    {
      "cell_type": "code",
      "source": [],
      "metadata": {
        "id": "Nxm3C-aNT5Jk"
      },
      "execution_count": 33,
      "outputs": []
    }
  ]
}